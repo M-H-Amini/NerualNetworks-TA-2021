{
  "nbformat": 4,
  "nbformat_minor": 0,
  "metadata": {
    "colab": {
      "name": "NNTA-Lecture3-MLP.ipynb",
      "provenance": [],
      "authorship_tag": "ABX9TyOuFZ/rBJXZ/W3gArI8N/Kf",
      "include_colab_link": true
    },
    "kernelspec": {
      "name": "python3",
      "display_name": "Python 3"
    },
    "language_info": {
      "name": "python"
    },
    "accelerator": "GPU"
  },
  "cells": [
    {
      "cell_type": "markdown",
      "metadata": {
        "id": "view-in-github",
        "colab_type": "text"
      },
      "source": [
        "<a href=\"https://colab.research.google.com/github/M-H-Amini/NerualNetworks-TA-2021/blob/main/NNTA_Lecture3_MLP.ipynb\" target=\"_parent\"><img src=\"https://colab.research.google.com/assets/colab-badge.svg\" alt=\"Open In Colab\"/></a>"
      ]
    },
    {
      "cell_type": "markdown",
      "metadata": {
        "id": "s-IlcqeTEGZ8"
      },
      "source": [
        "# In The Name Of ALLAH\n",
        "# Neural Networks TA\n",
        "# Lecture 3 - Multi-Layer Perceptron"
      ]
    },
    {
      "cell_type": "code",
      "metadata": {
        "id": "TFJ41fc5HsZ3"
      },
      "source": [
        "import numpy as np\n",
        "import matplotlib.pyplot as plt\n",
        "from keras.layers import Dense, Flatten\n",
        "from keras.models import Sequential\n",
        "from keras.optimizers import Adam"
      ],
      "execution_count": null,
      "outputs": []
    },
    {
      "cell_type": "markdown",
      "metadata": {
        "id": "wj2xJFY_HlHd"
      },
      "source": [
        "# Example 1: Function Approximation"
      ]
    },
    {
      "cell_type": "code",
      "metadata": {
        "id": "gz_KeCnLDSXR"
      },
      "source": [
        "X = np.linspace(-2, 2, 21)[:, np.newaxis]\n",
        "y = 1 + np.sin(X * np.pi / 4)"
      ],
      "execution_count": null,
      "outputs": []
    },
    {
      "cell_type": "code",
      "metadata": {
        "id": "Xxgy-TzpIS-T"
      },
      "source": [
        "plt.figure()\n",
        "plt.plot(X, y, 'rx')\n",
        "plt.show()"
      ],
      "execution_count": null,
      "outputs": []
    },
    {
      "cell_type": "code",
      "metadata": {
        "id": "zvPPrCHEIjQd"
      },
      "source": [
        "model = Sequential()\n",
        "model.add(Dense(4, 'sigmoid', input_shape=(1,)))\n",
        "model.add(Dense(1, 'linear'))\n",
        "\n",
        "print(model.summary())"
      ],
      "execution_count": null,
      "outputs": []
    },
    {
      "cell_type": "code",
      "metadata": {
        "id": "DB3UkGXLJ9Fr"
      },
      "source": [
        "model.compile(optimizer=Adam(0.01), loss='mse')"
      ],
      "execution_count": null,
      "outputs": []
    },
    {
      "cell_type": "code",
      "metadata": {
        "id": "bSshHqy-Kdr7"
      },
      "source": [
        "model.fit(X, y, batch_size=4, epochs=50)"
      ],
      "execution_count": null,
      "outputs": []
    },
    {
      "cell_type": "code",
      "metadata": {
        "id": "z2rfP6MTKrO6"
      },
      "source": [
        "outputs = model(X)\n",
        "\n",
        "plt.figure()\n",
        "plt.plot(X, y, 'rx', X, outputs, 'b-o')\n",
        "plt.show()"
      ],
      "execution_count": null,
      "outputs": []
    },
    {
      "cell_type": "markdown",
      "metadata": {
        "id": "JmEoHFjwNhCx"
      },
      "source": [
        "# Example 2: MNIST Hand-Written Digits Classfication"
      ]
    },
    {
      "cell_type": "code",
      "metadata": {
        "id": "1G0uvyeYNmQ7"
      },
      "source": [
        "from keras.datasets import mnist"
      ],
      "execution_count": null,
      "outputs": []
    },
    {
      "cell_type": "code",
      "metadata": {
        "id": "QDYgFOZGOGUC"
      },
      "source": [
        "(Xtrain, ytrain), (Xtest, ytest) = mnist.load_data()\n",
        "Xtrain, Xtest = Xtrain / 255., Xtest / 255."
      ],
      "execution_count": null,
      "outputs": []
    },
    {
      "cell_type": "code",
      "metadata": {
        "id": "Hy2WlWjPQlwX"
      },
      "source": [
        "def show(X, y=None, r=4, c=4):\n",
        "  fig, ax = plt.subplots(r, c, True, True, figsize=(8, 8))\n",
        "  for i in range(r):\n",
        "    for j in range(c):\n",
        "      ax[i, j].imshow(X[i*c + j])\n",
        "      if y is not None:\n",
        "        ax[i, j].set_title(y[i*c + j], fontsize=14)\n",
        "  plt.show()\n",
        "\n",
        "show(Xtrain, ytrain)"
      ],
      "execution_count": null,
      "outputs": []
    },
    {
      "cell_type": "code",
      "metadata": {
        "id": "KAF2Mt91Qq_A"
      },
      "source": [
        "Xtrain = Xtrain.reshape((60000, 28*28))\n",
        "Xtest = Xtest.reshape((10000, -1))"
      ],
      "execution_count": null,
      "outputs": []
    },
    {
      "cell_type": "code",
      "metadata": {
        "id": "3jEtP8F2OOtk"
      },
      "source": [
        "model = Sequential()\n",
        "model.add(Dense(40, 'tanh', input_shape=(28*28,)))\n",
        "model.add(Dense(10, 'softmax'))\n",
        "\n",
        "print(model.summary())"
      ],
      "execution_count": null,
      "outputs": []
    },
    {
      "cell_type": "code",
      "metadata": {
        "id": "WsRwZ3rTTeuP"
      },
      "source": [
        "model.compile(optimizer=Adam(), loss='sparse_categorical_crossentropy', metrics=['acc'])"
      ],
      "execution_count": null,
      "outputs": []
    },
    {
      "cell_type": "code",
      "metadata": {
        "id": "2p8-ZJZfUcKb"
      },
      "source": [
        "model.fit(Xtrain, ytrain, batch_size=32, epochs=5, validation_data=(Xtest, ytest))"
      ],
      "execution_count": null,
      "outputs": []
    },
    {
      "cell_type": "code",
      "metadata": {
        "id": "8KmaIS_xWX0Q"
      },
      "source": [
        "outputs = np.array(model(Xtest))\n",
        "outputs_indexes = np.argmax(outputs, axis=1)\n",
        "outputs_probs = outputs[np.arange(10000), outputs_indexes]\n",
        "\n",
        "show(Xtest.reshape(10000, 28, 28), outputs_indexes)"
      ],
      "execution_count": null,
      "outputs": []
    }
  ]
}