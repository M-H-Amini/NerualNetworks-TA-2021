{
  "nbformat": 4,
  "nbformat_minor": 0,
  "metadata": {
    "colab": {
      "name": "NNTA-Lecture1-Adaline.ipynb",
      "provenance": [],
      "collapsed_sections": [],
      "authorship_tag": "ABX9TyNQN8tKvrrb9I/xp6dETvPN",
      "include_colab_link": true
    },
    "kernelspec": {
      "name": "python3",
      "display_name": "Python 3"
    },
    "language_info": {
      "name": "python"
    }
  },
  "cells": [
    {
      "cell_type": "markdown",
      "metadata": {
        "id": "view-in-github",
        "colab_type": "text"
      },
      "source": [
        "<a href=\"https://colab.research.google.com/github/M-H-Amini/NerualNetworks-TA-2021/blob/main/NNTA_Lecture1_Adaline.ipynb\" target=\"_parent\"><img src=\"https://colab.research.google.com/assets/colab-badge.svg\" alt=\"Open In Colab\"/></a>"
      ]
    },
    {
      "cell_type": "markdown",
      "metadata": {
        "id": "tZrjKJ1ZP8WM"
      },
      "source": [
        "# In The Name Of ALLAH\n",
        "# Neural Networks TA\n",
        "# Lecture 1 - ADALINE"
      ]
    },
    {
      "cell_type": "code",
      "metadata": {
        "id": "ekgoJjDqImzF"
      },
      "source": [
        "import numpy as np\n",
        "import matplotlib.pyplot as plt"
      ],
      "execution_count": 1,
      "outputs": []
    },
    {
      "cell_type": "markdown",
      "metadata": {
        "id": "BO1MOmpJI3J9"
      },
      "source": [
        "# Dataset Generation\n",
        "First, we're gonna generate a simple dataset. It would be some points pertubed from a line."
      ]
    },
    {
      "cell_type": "code",
      "metadata": {
        "id": "IPk3qO-vJIGZ"
      },
      "source": [
        "m, b = 1.5, 3\n",
        "no_of_samples = 15\n",
        "X = np.linspace(0, 10, no_of_samples)[:, np.newaxis]\n",
        "y = m * X + b + 3 * np.random.rand(no_of_samples, 1) "
      ],
      "execution_count": 12,
      "outputs": []
    },
    {
      "cell_type": "markdown",
      "metadata": {
        "id": "xfInl2WLJkt8"
      },
      "source": [
        "Let's see our dataset!"
      ]
    },
    {
      "cell_type": "code",
      "metadata": {
        "colab": {
          "base_uri": "https://localhost:8080/",
          "height": 265
        },
        "id": "EmhNIvxMJj2y",
        "outputId": "d964b024-4f01-4507-8df9-03966cfe7148"
      },
      "source": [
        "plt.figure()\n",
        "plt.plot(X, y, 'rx')\n",
        "plt.show()"
      ],
      "execution_count": 13,
      "outputs": [
        {
          "output_type": "display_data",
          "data": {
            "image/png": "[encoded data removed]",
            "text/plain": [
              "<Figure size 432x288 with 1 Axes>"
            ]
          },
          "metadata": {
            "tags": [],
            "needs_background": "light"
          }
        }
      ]
    },
    {
      "cell_type": "markdown",
      "metadata": {
        "id": "iTD13x9nJv4z"
      },
      "source": [
        "#  Adaline Network\n",
        "Here, we would implement an adaline network as a class. Let's see."
      ]
    },
    {
      "cell_type": "code",
      "metadata": {
        "id": "OvW8wvXbJxbU"
      },
      "source": [
        "class MHAdaline:\n",
        "  def __init__(self, X, y, lr=0.01):\n",
        "    self.X = X\n",
        "    self.y = y\n",
        "    self.lr = lr\n",
        "\n",
        "    self.W = np.random.rand(self.y.shape[1], self.X.shape[1])\n",
        "    self.b = np.random.rand(self.y.shape[1], 1)\n",
        "\n",
        "  def predict(self, x):\n",
        "    n = self.W.dot(x) + b\n",
        "    a = n\n",
        "    return a\n",
        "\n",
        "  def fit(self, iterations=100):\n",
        "    for i in range(iterations):\n",
        "      for k in range(self.W.shape[1]):\n",
        "        sw = 0\n",
        "        for sample in range(self.X.shape[0]):\n",
        "          sw += (self.y[sample, 0] - self.predict(self.X[sample, 0])) * self.X[sample, k]\n",
        "        \n",
        "        self.W[0, k] = self.W[0, k] + (self.lr/self.X.shape[0]) * sw\n",
        "      \n",
        "      sb = 0\n",
        "      for sample in range(self.X.shape[0]):\n",
        "        sb += (self.y[sample, 0] - self.predict(self.X[sample, 0]))\n",
        "      \n",
        "      self.b[0, 0] = self.b[0, 0] + (self.lr/self.X.shape[0]) * sb"
      ],
      "execution_count": 25,
      "outputs": []
    },
    {
      "cell_type": "markdown",
      "metadata": {
        "id": "PROHq2bJNJT6"
      },
      "source": [
        "Let's check our performance."
      ]
    },
    {
      "cell_type": "code",
      "metadata": {
        "colab": {
          "base_uri": "https://localhost:8080/",
          "height": 520
        },
        "id": "A6KVT-mcNHPg",
        "outputId": "53c2e86a-3591-43f9-b477-b0347279fe1f"
      },
      "source": [
        "adaline = MHAdaline(X, y)\n",
        "adaline.fit(1000)\n",
        "outputs = []\n",
        "\n",
        "for sample in range(X.shape[0]):\n",
        "  outputs.append(adaline.predict(X[sample, 0]))\n",
        "  print(f'Input: {X[sample, 0]:4.2f}\\tTarget: {y[sample, 0]:4.2f}\\tOutput: {outputs[-1][0,0]:4.2f}')\n",
        "\n",
        "outputs = np.squeeze(np.array(outputs))\n",
        "plt.figure()\n",
        "plt.plot(X, y, 'rx', X, outputs, 'b--o')\n",
        "plt.show()"
      ],
      "execution_count": 29,
      "outputs": [
        {
          "output_type": "stream",
          "text": [
            "Input: 0.00\tTarget: 3.47\tOutput: 3.00\n",
            "Input: 0.71\tTarget: 6.55\tOutput: 4.26\n",
            "Input: 1.43\tTarget: 5.78\tOutput: 5.52\n",
            "Input: 2.14\tTarget: 7.63\tOutput: 6.77\n",
            "Input: 2.86\tTarget: 7.87\tOutput: 8.03\n",
            "Input: 3.57\tTarget: 8.65\tOutput: 9.29\n",
            "Input: 4.29\tTarget: 12.12\tOutput: 10.55\n",
            "Input: 5.00\tTarget: 13.14\tOutput: 11.81\n",
            "Input: 5.71\tTarget: 11.64\tOutput: 13.06\n",
            "Input: 6.43\tTarget: 14.91\tOutput: 14.32\n",
            "Input: 7.14\tTarget: 16.58\tOutput: 15.58\n",
            "Input: 7.86\tTarget: 15.87\tOutput: 16.84\n",
            "Input: 8.57\tTarget: 17.90\tOutput: 18.10\n",
            "Input: 9.29\tTarget: 18.85\tOutput: 19.36\n",
            "Input: 10.00\tTarget: 20.29\tOutput: 20.61\n"
          ],
          "name": "stdout"
        },
        {
          "output_type": "display_data",
          "data": {
            "image/png": "[encoded data removed]",
            "text/plain": [
              "<Figure size 432x288 with 1 Axes>"
            ]
          },
          "metadata": {
            "tags": [],
            "needs_background": "light"
          }
        }
      ]
    },
    {
      "cell_type": "code",
      "metadata": {
        "colab": {
          "base_uri": "https://localhost:8080/"
        },
        "id": "_g_ltxi0Ognt",
        "outputId": "7e8462aa-b466-4b01-b620-60b931e88af0"
      },
      "source": [
        "print(adaline.W, adaline.b)"
      ],
      "execution_count": 30,
      "outputs": [
        {
          "output_type": "stream",
          "text": [
            "[[1.76136792]] [[3.17181652]]\n"
          ],
          "name": "stdout"
        }
      ]
    }
  ]
}