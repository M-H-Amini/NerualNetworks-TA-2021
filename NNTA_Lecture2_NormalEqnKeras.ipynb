{
  "nbformat": 4,
  "nbformat_minor": 0,
  "metadata": {
    "colab": {
      "name": "NNTA-Lecture2-NormalEqnKeras.ipynb",
      "provenance": [],
      "collapsed_sections": [],
      "authorship_tag": "ABX9TyP5YnbtmTcmTC224q6q+sER",
      "include_colab_link": true
    },
    "kernelspec": {
      "name": "python3",
      "display_name": "Python 3"
    },
    "language_info": {
      "name": "python"
    }
  },
  "cells": [
    {
      "cell_type": "markdown",
      "metadata": {
        "id": "view-in-github",
        "colab_type": "text"
      },
      "source": [
        "<a href=\"https://colab.research.google.com/github/M-H-Amini/NerualNetworks-TA-2021/blob/main/NNTA_Lecture2_NormalEqnKeras.ipynb\" target=\"_parent\"><img src=\"https://colab.research.google.com/assets/colab-badge.svg\" alt=\"Open In Colab\"/></a>"
      ]
    },
    {
      "cell_type": "markdown",
      "metadata": {
        "id": "Df7uVMsU6V0_"
      },
      "source": [
        "# In The Name Of ALLAH\n",
        "# Neural Networks TA\n",
        "# Lecture 2 - Normal Equation + Keras"
      ]
    },
    {
      "cell_type": "code",
      "metadata": {
        "id": "3fnYTFpQ6Ukj"
      },
      "source": [
        "import numpy as np\n",
        "import matplotlib.pyplot as plt"
      ],
      "execution_count": 1,
      "outputs": []
    },
    {
      "cell_type": "markdown",
      "metadata": {
        "id": "tV3CbLdpG6-9"
      },
      "source": [
        "#  Dataset Generation"
      ]
    },
    {
      "cell_type": "code",
      "metadata": {
        "id": "lweegGN8G6Em"
      },
      "source": [
        "no_of_samples = 15\n",
        "W, b = 2.1, 4.8\n",
        "\n",
        "X = np.linspace(0, 20, no_of_samples)[:, np.newaxis]\n",
        "y = W * X + b + 8 * np.random.rand(no_of_samples, 1)"
      ],
      "execution_count": 15,
      "outputs": []
    },
    {
      "cell_type": "code",
      "metadata": {
        "colab": {
          "base_uri": "https://localhost:8080/",
          "height": 265
        },
        "id": "lfLPoYFuHTfC",
        "outputId": "df26290a-1e65-480b-8cb5-95de51033e77"
      },
      "source": [
        "plt.figure()\n",
        "plt.plot(X, y, 'rx')\n",
        "plt.show()"
      ],
      "execution_count": 16,
      "outputs": [
        {
          "output_type": "display_data",
          "data": {
            "image/png": "[encoded data removed]",
            "text/plain": [
              "<Figure size 432x288 with 1 Axes>"
            ]
          },
          "metadata": {
            "tags": [],
            "needs_background": "light"
          }
        }
      ]
    },
    {
      "cell_type": "markdown",
      "metadata": {
        "id": "DniJpzZvHa8b"
      },
      "source": [
        "#  Normal Equation\n",
        "$\\underline{w} = (X^TX)^{-1}X^T\\underline{y}$"
      ]
    },
    {
      "cell_type": "code",
      "metadata": {
        "id": "N-Ldgcd5H7Qb"
      },
      "source": [
        "X = np.linspace(0, 20, no_of_samples)[:, np.newaxis]\n",
        "y = W * X + b + 8 * np.random.rand(no_of_samples, 1)\n",
        "\n",
        "##  Adding a column for the bias...\n",
        "X = np.concatenate((np.ones((no_of_samples, 1)), X), axis=1)\n",
        "\n",
        "w = np.linalg.inv(X.T.dot(X)).dot(X.T).dot(y)"
      ],
      "execution_count": 20,
      "outputs": []
    },
    {
      "cell_type": "code",
      "metadata": {
        "colab": {
          "base_uri": "https://localhost:8080/",
          "height": 520
        },
        "id": "3uFxyC_LI3CU",
        "outputId": "3d36438a-1139-4da3-c553-80d3fc525743"
      },
      "source": [
        "outputs = X.dot(w)\n",
        "\n",
        "for i in range(no_of_samples):\n",
        "  print(f'Input: {X[i,1]:4.2f}\\tTarget: {y[i,0]:4.2f}\\tOutput: {outputs[i,0]:4.2f}')\n",
        "\n",
        "plt.figure()\n",
        "plt.plot(X[:, 1], y, 'rx', X[:, 1], outputs, 'b-o')\n",
        "plt.show()"
      ],
      "execution_count": 24,
      "outputs": [
        {
          "output_type": "stream",
          "text": [
            "Input: 0.00\tTarget: 9.70\tOutput: 8.11\n",
            "Input: 1.43\tTarget: 10.31\tOutput: 11.27\n",
            "Input: 2.86\tTarget: 15.73\tOutput: 14.42\n",
            "Input: 4.29\tTarget: 13.88\tOutput: 17.57\n",
            "Input: 5.71\tTarget: 17.10\tOutput: 20.73\n",
            "Input: 7.14\tTarget: 25.93\tOutput: 23.88\n",
            "Input: 8.57\tTarget: 28.86\tOutput: 27.04\n",
            "Input: 10.00\tTarget: 32.24\tOutput: 30.19\n",
            "Input: 11.43\tTarget: 35.78\tOutput: 33.34\n",
            "Input: 12.86\tTarget: 35.75\tOutput: 36.50\n",
            "Input: 14.29\tTarget: 42.72\tOutput: 39.65\n",
            "Input: 15.71\tTarget: 38.74\tOutput: 42.81\n",
            "Input: 17.14\tTarget: 41.52\tOutput: 45.96\n",
            "Input: 18.57\tTarget: 51.03\tOutput: 49.11\n",
            "Input: 20.00\tTarget: 53.54\tOutput: 52.27\n"
          ],
          "name": "stdout"
        },
        {
          "output_type": "display_data",
          "data": {
            "image/png": "[encoded data removed]",
            "text/plain": [
              "<Figure size 432x288 with 1 Axes>"
            ]
          },
          "metadata": {
            "tags": [],
            "needs_background": "light"
          }
        }
      ]
    },
    {
      "cell_type": "code",
      "metadata": {
        "colab": {
          "base_uri": "https://localhost:8080/"
        },
        "id": "5mQBQRUzJjgz",
        "outputId": "09e6b41b-afe8-4940-da16-2f1ba42adfab"
      },
      "source": [
        "print(w)"
      ],
      "execution_count": 25,
      "outputs": [
        {
          "output_type": "stream",
          "text": [
            "[[8.11256367]\n",
            " [2.20770475]]\n"
          ],
          "name": "stdout"
        }
      ]
    },
    {
      "cell_type": "markdown",
      "metadata": {
        "id": "2mvryLgDJ-wH"
      },
      "source": [
        "#  Keras"
      ]
    },
    {
      "cell_type": "code",
      "metadata": {
        "id": "HYsVyPYNKAHQ"
      },
      "source": [
        "import keras\n",
        "from keras.layers import Dense\n",
        "from keras.models import Sequential\n",
        "from keras.optimizers import SGD, Adam"
      ],
      "execution_count": 35,
      "outputs": []
    },
    {
      "cell_type": "code",
      "metadata": {
        "id": "fXR8sQT5K3MJ"
      },
      "source": [
        "X = np.linspace(0, 20, no_of_samples)[:, np.newaxis]\n",
        "y = W * X + b + 8 * np.random.rand(no_of_samples, 1)"
      ],
      "execution_count": 28,
      "outputs": []
    },
    {
      "cell_type": "markdown",
      "metadata": {
        "id": "cJg7h56XK8gs"
      },
      "source": [
        "#  Neural Network"
      ]
    },
    {
      "cell_type": "code",
      "metadata": {
        "colab": {
          "base_uri": "https://localhost:8080/"
        },
        "id": "9g5A49P8K_aA",
        "outputId": "b06fa723-911b-46d2-9697-c9d96a6f1153"
      },
      "source": [
        "model = Sequential()\n",
        "model.add(Dense(1, 'linear', input_shape=(1,)))\n",
        "\n",
        "print(model.summary())"
      ],
      "execution_count": 38,
      "outputs": [
        {
          "output_type": "stream",
          "text": [
            "Model: \"sequential_4\"\n",
            "_________________________________________________________________\n",
            "Layer (type)                 Output Shape              Param #   \n",
            "=================================================================\n",
            "dense_4 (Dense)              (None, 1)                 2         \n",
            "=================================================================\n",
            "Total params: 2\n",
            "Trainable params: 2\n",
            "Non-trainable params: 0\n",
            "_________________________________________________________________\n",
            "None\n"
          ],
          "name": "stdout"
        }
      ]
    },
    {
      "cell_type": "code",
      "metadata": {
        "id": "sZafPTHvLsWa"
      },
      "source": [
        "model.compile(optimizer=SGD(0.001), loss='mse')"
      ],
      "execution_count": 39,
      "outputs": []
    },
    {
      "cell_type": "code",
      "metadata": {
        "colab": {
          "base_uri": "https://localhost:8080/"
        },
        "id": "5_nF6Jc_L2XR",
        "outputId": "ca9e6d1b-2023-4216-f17c-d85e3ccda242"
      },
      "source": [
        "model.fit(X, y, batch_size=5, epochs=20)"
      ],
      "execution_count": 42,
      "outputs": [
        {
          "output_type": "stream",
          "text": [
            "Epoch 1/20\n",
            "3/3 [==============================] - 0s 2ms/step - loss: 17.3994\n",
            "Epoch 2/20\n",
            "3/3 [==============================] - 0s 2ms/step - loss: 17.5889\n",
            "Epoch 3/20\n",
            "3/3 [==============================] - 0s 4ms/step - loss: 17.3481\n",
            "Epoch 4/20\n",
            "3/3 [==============================] - 0s 3ms/step - loss: 17.4528\n",
            "Epoch 5/20\n",
            "3/3 [==============================] - 0s 2ms/step - loss: 17.2065\n",
            "Epoch 6/20\n",
            "3/3 [==============================] - 0s 2ms/step - loss: 17.2156\n",
            "Epoch 7/20\n",
            "3/3 [==============================] - 0s 2ms/step - loss: 17.2116\n",
            "Epoch 8/20\n",
            "3/3 [==============================] - 0s 2ms/step - loss: 17.1730\n",
            "Epoch 9/20\n",
            "3/3 [==============================] - 0s 2ms/step - loss: 17.2241\n",
            "Epoch 10/20\n",
            "3/3 [==============================] - 0s 2ms/step - loss: 17.0716\n",
            "Epoch 11/20\n",
            "3/3 [==============================] - 0s 2ms/step - loss: 17.8226\n",
            "Epoch 12/20\n",
            "3/3 [==============================] - 0s 3ms/step - loss: 16.9193\n",
            "Epoch 13/20\n",
            "3/3 [==============================] - 0s 2ms/step - loss: 16.8701\n",
            "Epoch 14/20\n",
            "3/3 [==============================] - 0s 3ms/step - loss: 16.9490\n",
            "Epoch 15/20\n",
            "3/3 [==============================] - 0s 2ms/step - loss: 16.8430\n",
            "Epoch 16/20\n",
            "3/3 [==============================] - 0s 2ms/step - loss: 16.8996\n",
            "Epoch 17/20\n",
            "3/3 [==============================] - 0s 2ms/step - loss: 17.0701\n",
            "Epoch 18/20\n",
            "3/3 [==============================] - 0s 2ms/step - loss: 16.9313\n",
            "Epoch 19/20\n",
            "3/3 [==============================] - 0s 2ms/step - loss: 17.3062\n",
            "Epoch 20/20\n",
            "3/3 [==============================] - 0s 3ms/step - loss: 16.7046\n"
          ],
          "name": "stdout"
        },
        {
          "output_type": "execute_result",
          "data": {
            "text/plain": [
              "<tensorflow.python.keras.callbacks.History at 0x7f893799ce50>"
            ]
          },
          "metadata": {
            "tags": []
          },
          "execution_count": 42
        }
      ]
    },
    {
      "cell_type": "code",
      "metadata": {
        "colab": {
          "base_uri": "https://localhost:8080/",
          "height": 520
        },
        "id": "MhjA-rveMowc",
        "outputId": "027948fa-db05-46a4-cde5-0f9698dec86b"
      },
      "source": [
        "outputs = model(X)\n",
        "\n",
        "for i in range(no_of_samples):\n",
        "  print(f'Input: {X[i,0]:4.2f}\\tTarget: {y[i,0]:4.2f}\\tOutput: {outputs[i,0]:4.2f}')\n",
        "\n",
        "plt.figure()\n",
        "plt.plot(X, y, 'rx', X, outputs, 'b-o')\n",
        "plt.show()"
      ],
      "execution_count": 46,
      "outputs": [
        {
          "output_type": "stream",
          "text": [
            "Input: 0.00\tTarget: 7.40\tOutput: 0.82\n",
            "Input: 1.43\tTarget: 10.29\tOutput: 4.69\n",
            "Input: 2.86\tTarget: 16.24\tOutput: 8.57\n",
            "Input: 4.29\tTarget: 15.64\tOutput: 12.45\n",
            "Input: 5.71\tTarget: 24.44\tOutput: 16.32\n",
            "Input: 7.14\tTarget: 19.87\tOutput: 20.20\n",
            "Input: 8.57\tTarget: 25.75\tOutput: 24.07\n",
            "Input: 10.00\tTarget: 26.76\tOutput: 27.95\n",
            "Input: 11.43\tTarget: 34.87\tOutput: 31.83\n",
            "Input: 12.86\tTarget: 35.24\tOutput: 35.70\n",
            "Input: 14.29\tTarget: 38.51\tOutput: 39.58\n",
            "Input: 15.71\tTarget: 40.42\tOutput: 43.46\n",
            "Input: 17.14\tTarget: 48.73\tOutput: 47.33\n",
            "Input: 18.57\tTarget: 49.00\tOutput: 51.21\n",
            "Input: 20.00\tTarget: 52.41\tOutput: 55.08\n"
          ],
          "name": "stdout"
        },
        {
          "output_type": "display_data",
          "data": {
            "image/png": "[encoded data removed]",
            "text/plain": [
              "<Figure size 432x288 with 1 Axes>"
            ]
          },
          "metadata": {
            "tags": [],
            "needs_background": "light"
          }
        }
      ]
    },
    {
      "cell_type": "code",
      "metadata": {
        "colab": {
          "base_uri": "https://localhost:8080/"
        },
        "id": "Yf2JiukMM8eG",
        "outputId": "0a8f5329-b0b3-413c-b818-630e40368779"
      },
      "source": [
        "print(model.trainable_weights)"
      ],
      "execution_count": 47,
      "outputs": [
        {
          "output_type": "stream",
          "text": [
            "[<tf.Variable 'dense_4/kernel:0' shape=(1, 1) dtype=float32, numpy=array([[2.7134466]], dtype=float32)>, <tf.Variable 'dense_4/bias:0' shape=(1,) dtype=float32, numpy=array([0.8160086], dtype=float32)>]\n"
          ],
          "name": "stdout"
        }
      ]
    }
  ]
}