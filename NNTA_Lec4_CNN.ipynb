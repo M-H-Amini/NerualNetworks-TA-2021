{
  "nbformat": 4,
  "nbformat_minor": 0,
  "metadata": {
    "colab": {
      "name": "NNTA-Lec4-CNN.ipynb",
      "provenance": [],
      "authorship_tag": "ABX9TyMBL04qODQkC19mlmSalPqM",
      "include_colab_link": true
    },
    "kernelspec": {
      "name": "python3",
      "display_name": "Python 3"
    },
    "language_info": {
      "name": "python"
    },
    "accelerator": "GPU"
  },
  "cells": [
    {
      "cell_type": "markdown",
      "metadata": {
        "id": "view-in-github",
        "colab_type": "text"
      },
      "source": [
        "<a href=\"https://colab.research.google.com/github/M-H-Amini/NerualNetworks-TA-2021/blob/main/NNTA_Lec4_CNN.ipynb\" target=\"_parent\"><img src=\"https://colab.research.google.com/assets/colab-badge.svg\" alt=\"Open In Colab\"/></a>"
      ]
    },
    {
      "cell_type": "markdown",
      "metadata": {
        "id": "46KaNiKHH6x3"
      },
      "source": [
        "# In The Name Of ALLAH\n",
        "# Neural Networks TA\n",
        "# Lecture 4 - Convolutional Neural Networks (CNNs)"
      ]
    },
    {
      "cell_type": "code",
      "metadata": {
        "id": "GWpdaPU6H6On"
      },
      "source": [
        "import numpy as np\n",
        "import matplotlib.pyplot as plt\n",
        "from keras.models import Sequential\n",
        "from keras.layers import Dense, Conv2D, MaxPooling2D, Flatten\n",
        "from keras.datasets import mnist"
      ],
      "execution_count": 3,
      "outputs": []
    },
    {
      "cell_type": "markdown",
      "metadata": {
        "id": "3glwCq_YUL1J"
      },
      "source": [
        "#  Dataset"
      ]
    },
    {
      "cell_type": "code",
      "metadata": {
        "id": "Ce81SzHnUKyY"
      },
      "source": [
        "(Xtrain, ytrain), (Xtest, ytest) = mnist.load_data()\n",
        "Xtrain = np.expand_dims(Xtrain / 127.5 - 1, -1)\n",
        "Xtest = np.expand_dims(Xtest / 127.5 - 1, -1)"
      ],
      "execution_count": 8,
      "outputs": []
    },
    {
      "cell_type": "code",
      "metadata": {
        "colab": {
          "base_uri": "https://localhost:8080/",
          "height": 281
        },
        "id": "CRB8_N-GUvLU",
        "outputId": "0b544e1c-da6d-4294-b53d-85cf65210af0"
      },
      "source": [
        "def show(X, y):\n",
        "  plt.figure()\n",
        "  plt.imshow(X[:, :, 0])\n",
        "  plt.title(f'{y}')\n",
        "  plt.show()\n",
        "\n",
        "show(Xtrain[10], ytrain[10])"
      ],
      "execution_count": 14,
      "outputs": [
        {
          "output_type": "display_data",
          "data": {
            "image/png": "[encoded data removed]",
            "text/plain": [
              "<Figure size 432x288 with 1 Axes>"
            ]
          },
          "metadata": {
            "tags": [],
            "needs_background": "light"
          }
        }
      ]
    },
    {
      "cell_type": "markdown",
      "metadata": {
        "id": "Bd1yK6BUVG7P"
      },
      "source": [
        "#  Neural Network"
      ]
    },
    {
      "cell_type": "code",
      "metadata": {
        "colab": {
          "base_uri": "https://localhost:8080/"
        },
        "id": "YPeLKr7dVGJD",
        "outputId": "91cb5336-7352-4035-f416-0632fba303e7"
      },
      "source": [
        "model = Sequential()\n",
        "model.add(Conv2D(32, 3, 1, 'same', activation='relu', input_shape=(28,28,1)))\n",
        "model.add(MaxPooling2D(2, 2))\n",
        "model.add(Conv2D(64, 3, 1, 'same', activation='relu'))\n",
        "model.add(MaxPooling2D(2, 2))\n",
        "model.add(Conv2D(128, 3, 1, 'same', activation='relu'))\n",
        "model.add(MaxPooling2D(2, 2))\n",
        "model.add(Flatten())\n",
        "model.add(Dense(10, 'softmax'))\n",
        "\n",
        "print(model.summary())"
      ],
      "execution_count": 15,
      "outputs": [
        {
          "output_type": "stream",
          "text": [
            "Model: \"sequential\"\n",
            "_________________________________________________________________\n",
            "Layer (type)                 Output Shape              Param #   \n",
            "=================================================================\n",
            "conv2d (Conv2D)              (None, 28, 28, 32)        320       \n",
            "_________________________________________________________________\n",
            "max_pooling2d (MaxPooling2D) (None, 14, 14, 32)        0         \n",
            "_________________________________________________________________\n",
            "conv2d_1 (Conv2D)            (None, 14, 14, 64)        18496     \n",
            "_________________________________________________________________\n",
            "max_pooling2d_1 (MaxPooling2 (None, 7, 7, 64)          0         \n",
            "_________________________________________________________________\n",
            "conv2d_2 (Conv2D)            (None, 7, 7, 128)         73856     \n",
            "_________________________________________________________________\n",
            "max_pooling2d_2 (MaxPooling2 (None, 3, 3, 128)         0         \n",
            "_________________________________________________________________\n",
            "flatten (Flatten)            (None, 1152)              0         \n",
            "_________________________________________________________________\n",
            "dense (Dense)                (None, 10)                11530     \n",
            "=================================================================\n",
            "Total params: 104,202\n",
            "Trainable params: 104,202\n",
            "Non-trainable params: 0\n",
            "_________________________________________________________________\n",
            "None\n"
          ],
          "name": "stdout"
        }
      ]
    },
    {
      "cell_type": "code",
      "metadata": {
        "id": "ckBPqOpmV-f0"
      },
      "source": [
        "model.compile(optimizer='adam', loss='sparse_categorical_crossentropy', metrics=['acc'])"
      ],
      "execution_count": 16,
      "outputs": []
    },
    {
      "cell_type": "code",
      "metadata": {
        "colab": {
          "base_uri": "https://localhost:8080/"
        },
        "id": "8TwFZDLDWJrH",
        "outputId": "93fb1cc4-8589-45a6-aa4e-0bb6cedde54f"
      },
      "source": [
        "model.fit(Xtrain, ytrain, batch_size=64, validation_data=(Xtest, ytest), epochs=10)"
      ],
      "execution_count": 17,
      "outputs": [
        {
          "output_type": "stream",
          "text": [
            "Epoch 1/10\n",
            "938/938 [==============================] - 37s 4ms/step - loss: 0.3774 - acc: 0.8895 - val_loss: 0.0503 - val_acc: 0.9850\n",
            "Epoch 2/10\n",
            "938/938 [==============================] - 4s 4ms/step - loss: 0.0435 - acc: 0.9869 - val_loss: 0.0345 - val_acc: 0.9888\n",
            "Epoch 3/10\n",
            "938/938 [==============================] - 4s 4ms/step - loss: 0.0257 - acc: 0.9919 - val_loss: 0.0333 - val_acc: 0.9888\n",
            "Epoch 4/10\n",
            "938/938 [==============================] - 4s 4ms/step - loss: 0.0218 - acc: 0.9922 - val_loss: 0.0277 - val_acc: 0.9915\n",
            "Epoch 5/10\n",
            "938/938 [==============================] - 4s 4ms/step - loss: 0.0158 - acc: 0.9946 - val_loss: 0.0197 - val_acc: 0.9930\n",
            "Epoch 6/10\n",
            "938/938 [==============================] - 4s 4ms/step - loss: 0.0122 - acc: 0.9958 - val_loss: 0.0223 - val_acc: 0.9932\n",
            "Epoch 7/10\n",
            "938/938 [==============================] - 4s 4ms/step - loss: 0.0098 - acc: 0.9966 - val_loss: 0.0248 - val_acc: 0.9920\n",
            "Epoch 8/10\n",
            "938/938 [==============================] - 4s 4ms/step - loss: 0.0083 - acc: 0.9974 - val_loss: 0.0318 - val_acc: 0.9903\n",
            "Epoch 9/10\n",
            "938/938 [==============================] - 4s 4ms/step - loss: 0.0070 - acc: 0.9978 - val_loss: 0.0328 - val_acc: 0.9902\n",
            "Epoch 10/10\n",
            "938/938 [==============================] - 4s 4ms/step - loss: 0.0077 - acc: 0.9978 - val_loss: 0.0289 - val_acc: 0.9932\n"
          ],
          "name": "stdout"
        },
        {
          "output_type": "execute_result",
          "data": {
            "text/plain": [
              "<tensorflow.python.keras.callbacks.History at 0x7f5980037650>"
            ]
          },
          "metadata": {
            "tags": []
          },
          "execution_count": 17
        }
      ]
    }
  ]
}